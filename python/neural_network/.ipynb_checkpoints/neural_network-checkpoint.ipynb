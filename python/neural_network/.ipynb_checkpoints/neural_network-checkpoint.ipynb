{
 "cells": [
  {
   "cell_type": "code",
   "execution_count": 2,
   "metadata": {},
   "outputs": [],
   "source": [
    "train_dir = './dataset/training'\n",
    "test_dir = './dataset/test'"
   ]
  },
  {
   "cell_type": "code",
   "execution_count": 3,
   "metadata": {},
   "outputs": [],
   "source": [
    "import torchvision.transforms as transforms\n",
    "from torchvision import datasets\n",
    "\n",
    "transforms = transforms.Compose([transforms.Resize(256), \n",
    "                                 transforms.RandomCrop(224),\n",
    "                                 transforms.Resize(128), \n",
    "                                 transforms.ToTensor(),\n",
    "                                 transforms.Normalize((0.5, 0.5, 0.5), (0.5, 0.5, 0.5))])\n",
    "\n",
    "trainset = datasets.ImageFolder(train_dir, transform=transforms)\n",
    "testset = datasets.ImageFolder(test_dir, transform=transforms)"
   ]
  },
  {
   "cell_type": "code",
   "execution_count": 4,
   "metadata": {},
   "outputs": [
    {
     "data": {
      "text/plain": [
       "['cats', 'dogs']"
      ]
     },
     "execution_count": 4,
     "metadata": {},
     "output_type": "execute_result"
    }
   ],
   "source": [
    "trainset.classes"
   ]
  },
  {
   "cell_type": "code",
   "execution_count": 5,
   "metadata": {},
   "outputs": [],
   "source": [
    "num_train = len(trainset)\n",
    "indices = list(range(num_train))\n",
    "split = int(np.floor(0.2 * num_train))\n",
    "np.random.seed(0)\n",
    "np.random.shuffle(indices)\n",
    "\n",
    "train_idx, valid_idx = indices[split:], indices[:split]\n",
    "train_sampler = SubsetRandomSampler(train_idx)\n",
    "valid_sampler = SubsetRandomSampler(valid_idx)"
   ]
  },
  {
   "cell_type": "code",
   "execution_count": 6,
   "metadata": {},
   "outputs": [],
   "source": [
    "trainloader = torch.utils.data.DataLoader(trainset, batch_size=512,sampler=train_sampler,\n",
    "                                           num_workers=2)\n",
    "\n",
    "validloader = torch.utils.data.DataLoader(trainset, batch_size=512,sampler=valid_sampler,\n",
    "                                           num_workers=2)\n",
    "testloader = torch.utils.data.DataLoader(testset, batch_size=512)"
   ]
  },
  {
   "cell_type": "code",
   "execution_count": 7,
   "metadata": {},
   "outputs": [],
   "source": [
    "import torch.nn as nn\n",
    "\n",
    "class Net(nn.Module):\n",
    "    def __init__(self):\n",
    "        super(Net, self).__init__()\n",
    "    \n",
    "        self.hidden = nn.Linear(3*128*128, 256)      \n",
    "        self.output = nn.Linear(256,2)\n",
    "\n",
    "    def forward(self, x):\n",
    "        \n",
    "        N = x.shape[0]\n",
    "        x = x.view(N, -1)\n",
    "        \n",
    "        x = self.hidden(x)                \n",
    "        \n",
    "        x = torch.sigmoid(x)        \n",
    "        \n",
    "        x = self.output(x)        \n",
    "        return x\n",
    "\n",
    "model = Net()\n"
   ]
  },
  {
   "cell_type": "code",
   "execution_count": 8,
   "metadata": {},
   "outputs": [],
   "source": [
    "import torch.optim as optim\n",
    "\n",
    "criterion = nn.CrossEntropyLoss()\n",
    "optimizer = optim.Adam(model.parameters(), lr=0.003)"
   ]
  },
  {
   "cell_type": "code",
   "execution_count": 9,
   "metadata": {},
   "outputs": [
    {
     "name": "stderr",
     "output_type": "stream",
     "text": [
      "C:\\Users\\user\\anaconda3\\lib\\site-packages\\torch\\autograd\\__init__.py:130: UserWarning: CUDA initialization: Found no NVIDIA driver on your system. Please check that you have an NVIDIA GPU and installed a driver from http://www.nvidia.com/Download/index.aspx (Triggered internally at  ..\\c10\\cuda\\CUDAFunctions.cpp:100.)\n",
      "  Variable._execution_engine.run_backward(\n"
     ]
    },
    {
     "name": "stdout",
     "output_type": "stream",
     "text": [
      "Epoch [1] train loss: 1.332  valid loss: 0.911\n",
      "Epoch [2] train loss: 0.823  valid loss: 0.711\n",
      "Epoch [3] train loss: 0.726  valid loss: 0.699\n",
      "Epoch [4] train loss: 0.692  valid loss: 0.681\n",
      "Epoch [5] train loss: 0.688  valid loss: 0.676\n",
      "Epoch [6] train loss: 0.684  valid loss: 0.676\n",
      "Epoch [7] train loss: 0.682  valid loss: 0.672\n",
      "Epoch [8] train loss: 0.680  valid loss: 0.682\n",
      "Epoch [9] train loss: 0.677  valid loss: 0.682\n",
      "Epoch [10] train loss: 0.680  valid loss: 0.681\n",
      "Finished Training\n"
     ]
    }
   ],
   "source": [
    "epochs = 10\n",
    "train_losses = np.zeros(epochs)\n",
    "valid_losses = np.zeros(epochs)\n",
    "\n",
    "for epoch in range(epochs):  \n",
    "\n",
    "    model.train()\n",
    "    train_loss = []     \n",
    "    for data in trainloader:\n",
    "        \n",
    "        inputs, labels = data\n",
    "                        \n",
    "        optimizer.zero_grad()\n",
    "\n",
    "        outputs = model(inputs)\n",
    "        \n",
    "        loss = criterion(outputs, labels)\n",
    "        \n",
    "        loss.backward()\n",
    "        \n",
    "        optimizer.step()\n",
    "\n",
    "        train_loss.append(loss.item())\n",
    "    \n",
    "    model.eval()\n",
    "    with torch.no_grad():\n",
    "        valid_loss = []\n",
    "        for data in validloader:\n",
    "            inputs, labels = data\n",
    "            outputs = model(inputs)\n",
    "            loss = criterion(outputs, labels)\n",
    "        \n",
    "            valid_loss.append(loss.item())\n",
    "    \n",
    "    train_loss = np.mean(train_loss)\n",
    "    valid_loss = np.mean(valid_loss)\n",
    "    \n",
    "    print( 'Epoch [%d] train loss: %.3f  valid loss: %.3f' %\n",
    "         (epoch + 1, train_loss, valid_loss ))\n",
    "    \n",
    "    train_losses[epoch] = train_loss\n",
    "    valid_losses[epoch] = valid_loss\n",
    "print('Finished Training')"
   ]
  },
  {
   "cell_type": "code",
   "execution_count": 10,
   "metadata": {},
   "outputs": [
    {
     "data": {
      "image/png": "[encoded data removed]",
      "text/plain": [
       "<Figure size 432x288 with 1 Axes>"
      ]
     },
     "metadata": {
      "needs_background": "light"
     },
     "output_type": "display_data"
    }
   ],
   "source": [
    "# Plot the train loss per iteration\n",
    "plt.plot(train_losses, label='train loss')\n",
    "plt.plot(valid_losses, label='valid loss')\n",
    "plt.legend()\n",
    "plt.show()"
   ]
  },
  {
   "cell_type": "code",
   "execution_count": 11,
   "metadata": {},
   "outputs": [
    {
     "name": "stdout",
     "output_type": "stream",
     "text": [
      "Accuracy of the network on the test images: 56 %\n"
     ]
    }
   ],
   "source": [
    "correct = 0\n",
    "total = 0\n",
    "with torch.no_grad():\n",
    "    for data in testloader:\n",
    "        images, labels = data\n",
    "        outputs = model(images)\n",
    "        _, predicted = torch.max(outputs.data, dim=1)\n",
    "        total += labels.size(0)\n",
    "        correct += (predicted == labels).sum().item()\n",
    "\n",
    "print('Accuracy of the network on the test images: %d %%' % (\n",
    "                                                  100 * correct / total))"
   ]
  },
  {
   "cell_type": "code",
   "execution_count": 12,
   "metadata": {},
   "outputs": [
    {
     "data": {
      "image/png": "[encoded data removed]",
      "text/plain": [
       "<Figure size 576x432 with 2 Axes>"
      ]
     },
     "metadata": {
      "needs_background": "light"
     },
     "output_type": "display_data"
    }
   ],
   "source": [
    "\n",
    "from sklearn.metrics import confusion_matrix\n",
    "import seaborn as sns\n",
    "import matplotlib.pyplot as plt\n",
    "\n",
    "y_test = testset.targets\n",
    "p_test = np.array([])\n",
    "\n",
    "with torch.no_grad():\n",
    "    for data in testloader:\n",
    "        images, labels = data\n",
    "        outputs = model(images)\n",
    "        _, predicted = torch.max(outputs.data, dim=1)\n",
    "        p_test = np.concatenate((p_test, predicted.numpy()))  \n",
    "\n",
    "\n",
    "cm = confusion_matrix(y_test, p_test)\n",
    "\n",
    "plt.figure(figsize=(8, 6))\n",
    "plt.title(\"Confusion Matrix\")\n",
    "ax = sns.heatmap(cm, annot=True, cmap=\"Blues\", fmt='g')\n",
    "ax.set(ylabel=\"True Label\", xlabel=\"Predicted Label\")\n",
    "ax.set_xticklabels(testset.classes)\n",
    "ax.set_yticklabels(testset.classes)\n",
    "plt.show()"
   ]
  }
 ],
 "metadata": {
  "kernelspec": {
   "display_name": "Python 3",
   "language": "python",
   "name": "python3"
  },
  "language_info": {
   "codemirror_mode": {
    "name": "ipython",
    "version": 3
   },
   "file_extension": ".py",
   "mimetype": "text/x-python",
   "name": "python",
   "nbconvert_exporter": "python",
   "pygments_lexer": "ipython3",
   "version": "3.8.3"
  }
 },
 "nbformat": 4,
 "nbformat_minor": 4
}
